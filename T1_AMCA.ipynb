{
  "nbformat": 4,
  "nbformat_minor": 0,
  "metadata": {
    "colab": {
      "name": "T1-AMCA",
      "provenance": [],
      "collapsed_sections": [],
      "toc_visible": true,
      "authorship_tag": "ABX9TyPNIZlJ3YJ/DGOaIUJYDMY1",
      "include_colab_link": true
    },
    "kernelspec": {
      "name": "python3",
      "display_name": "Python 3"
    }
  },
  "cells": [
    {
      "cell_type": "markdown",
      "metadata": {
        "id": "view-in-github",
        "colab_type": "text"
      },
      "source": [
        "<a href=\"https://colab.research.google.com/github/GabCas28/AMCA/blob/master/T1_AMCA.ipynb\" target=\"_parent\"><img src=\"https://colab.research.google.com/assets/colab-badge.svg\" alt=\"Open In Colab\"/></a>"
      ]
    },
    {
      "cell_type": "markdown",
      "metadata": {
        "id": "evRiJn5B9x87"
      },
      "source": [
        "# Aplicaciones de Matemática Computacional Avanzada - Tarea 1\r\n",
        "\r\n",
        "Máster de Ingeniería Informática - Universidad de Granada\r\n",
        "\r\n",
        "Autor: Gabriel Castro Muñoz\r\n",
        "\r\n",
        "## Ejercicio 1 \r\n",
        "---"
      ]
    },
    {
      "cell_type": "markdown",
      "metadata": {
        "id": "t3InZ0iXH_Vy"
      },
      "source": [
        "Dado el esquema coordenado:\r\n",
        "\r\n",
        "$AA = \\begin{pmatrix}1&2&3&4&5&6&7&8&9&10&11&12&13&14&15&16&17&18&19&20&21&22\\end{pmatrix}$  \r\n",
        "$IA = \\begin{pmatrix}1&1&1&2&2&3&3&3&4&4&5&5&5&6&6&6&6&7&7&7&7&8\\end{pmatrix}$  \r\n",
        "$JA = \\begin{pmatrix}1&2&8&2&4&1&3&4&2&4&4&7&8&2&5&6&7&1&3&5&7&8\\end{pmatrix}$  \r\n",
        "\r\n",
        "\r\n",
        "Se puede comprimir utilizando el formato CSR, con ello obtenemos:\r\n",
        "\r\n",
        "$AA = \\begin{pmatrix}1&2&3&4&5&6&7&8&9&10&11&12&13&14&15&16&17&18&19&20&21&22\\end{pmatrix}$  \r\n",
        "$JA = \\begin{pmatrix}1&2&8&2&4&1&3&4&2&4&4&7&8&2&5&6&7&1&3&5&7&8\\end{pmatrix}$  \r\n",
        "$IA = \\begin{pmatrix}1&4&6&9&11&14&18&22&23\\end{pmatrix}$  \r\n",
        "\r\n",
        "Donde:  \r\n",
        ">$IA(1) = 1$  \r\n",
        ">$IA(i+1)-IA(i)$ es el numero de elementos no nulos en la fila i."
      ]
    },
    {
      "cell_type": "markdown",
      "metadata": {
        "id": "klLmAWyhNcU9"
      },
      "source": [
        "## Ejercicio 2\r\n",
        "---\r\n",
        "Programa en Python una funcion que recupera una matriz dispersa a partir de su esquema CSR."
      ]
    },
    {
      "cell_type": "code",
      "metadata": {
        "id": "txE-TNWSH_eX"
      },
      "source": [
        "class CSR:\r\n",
        "  \r\n",
        "  def __init__(self, AA, JA,IA):\r\n",
        "    self.AA = AA\r\n",
        "    self.JA = JA\r\n",
        "    self.IA = IA\r\n",
        "    self.n_rows = len(IA)-1\r\n",
        "    self.n_columns = max(JA)\r\n",
        "\r\n",
        "  def numElementsInRow(self,i):\r\n",
        "    return self.IA[i]-self.IA[i-1]\r\n",
        "\r\n",
        "  def to_matrix(self):\r\n",
        "\r\n",
        "    matrix = []\r\n",
        "\r\n",
        "    def generateRows():\r\n",
        "      p = 0 # pivot\r\n",
        "      for i in range(self.n_rows):\r\n",
        "        n_elems = self.numElementsInRow(i+1)\r\n",
        "        new_p = p + n_elems\r\n",
        "        elems, indexes = self.AA[p:new_p], self.JA[p:new_p]\r\n",
        "        p = new_p\r\n",
        "        matrix.append(generateRow(elems,indexes))\r\n",
        "        \r\n",
        "    def generateRow(elems,indexes):\r\n",
        "      row =  [0 for _ in range(self.n_columns)]\r\n",
        "      for i in range(len(elems)):\r\n",
        "        col, elem = indexes[i], elems[i]\r\n",
        "        row[col-1]=elem\r\n",
        "      return row\r\n",
        "\r\n",
        "      \r\n",
        "    generateRows()\r\n",
        "\r\n",
        "    return matrix"
      ],
      "execution_count": 2,
      "outputs": []
    },
    {
      "cell_type": "markdown",
      "metadata": {
        "id": "SJAszAUSFmIb"
      },
      "source": [
        "El siguiente código llama a la función to_matrix de la clase CSR obteniendo la matriz de dispersión sobre el CSR dado."
      ]
    },
    {
      "cell_type": "code",
      "metadata": {
        "id": "sah-Dg8JPgRn",
        "colab": {
          "base_uri": "https://localhost:8080/"
        },
        "outputId": "5d3c14fd-388c-4172-87b9-8cad2ff07413"
      },
      "source": [
        "AA = [8,4,1,3,2,1,7,9,3,1,5]\r\n",
        "JA = [1,2,3,4,1,3,5,2,3,6,6]\r\n",
        "IA = [1,3,5,8,11,12]\r\n",
        "csr = CSR(AA,JA,IA)\r\n",
        "csr.to_matrix()"
      ],
      "execution_count": 3,
      "outputs": [
        {
          "output_type": "execute_result",
          "data": {
            "text/plain": [
              "[[8, 4, 0, 0, 0, 0],\n",
              " [0, 0, 1, 3, 0, 0],\n",
              " [2, 0, 1, 0, 7, 0],\n",
              " [0, 9, 3, 0, 0, 1],\n",
              " [0, 0, 0, 0, 0, 5]]"
            ]
          },
          "metadata": {
            "tags": []
          },
          "execution_count": 3
        }
      ]
    },
    {
      "cell_type": "markdown",
      "metadata": {
        "id": "byly146HFj5F"
      },
      "source": [
        "## Ejercicio 3\r\n",
        "---\r\n",
        "Calcula los valores propios, los vectores propios, el radio espectral, y la norma uno, in\fnito y de Frobenius de las\r\n",
        "siguientes matrices:\r\n",
        "\r\n",
        "$A = \\begin{pmatrix}2&-3 \\\\ 1&-2 \\end{pmatrix} $ $B = \\begin{pmatrix}1&1/4&0 \\\\ 0&1/2&0 \\\\0&1/4&1 \\end{pmatrix}$   "
      ]
    },
    {
      "cell_type": "markdown",
      "metadata": {
        "id": "4P7ezfOr9jE2"
      },
      "source": [
        "### Para $A = \\begin{pmatrix}2&-3 \\\\ 1&-2 \\end{pmatrix}$  \r\n"
      ]
    },
    {
      "cell_type": "markdown",
      "metadata": {
        "id": "S5nxpUkrH-C8"
      },
      "source": [
        "> #### Normas matriciales\r\n",
        "\r\n",
        "\\begin{align}\r\n",
        "\\Vert A\\Vert_1 =\\max_{i = 1 \\dots m}\\sum_{j=1}^n|a_{ij}| = \\max \\{5,3\\}= 5 \\\\\\\\\r\n",
        "\\Vert A\\Vert_{\\infty} =\\max_{j = 1 \\dots n}\\sum_{i=1}^n|a_{ij}| = \\max \\{5,3\\} = 5 \\\\\\\\\r\n",
        "\\Vert A\\Vert_{F} =\\sqrt{ \\sum_{i=1}^n|a_{ij}|^2} = \\sqrt{1+9+1+4}  =  \\sqrt{26}\r\n",
        "\\end{align}\r\n",
        "\r\n",
        "> #### Cálculo de autovalores y autovectores\r\n",
        "Para calcular los autovalores y autovectores primero buscamos y resolvemos el vector característico de la ecuación $ |A-\\lambda I| =0$.  \r\n",
        "  \r\n",
        "> Esto es,  \r\n",
        "\r\n",
        "\\begin{align}\r\n",
        "\\begin{vmatrix}2-\\lambda&-3 \\\\ 1&-2-\\lambda \\end{vmatrix} = 0, && \\text{resolviendo el determinante,} \\\\\\\\\r\n",
        "(2-\\lambda)(-2-\\lambda)+3 = 0,&& \\text{operando,} \\\\\\\\\r\n",
        "\\lambda^2=1 && \\text{se obtienen los autovalores,} \\\\\\\\\r\n",
        "\\lambda = \\begin{cases}\r\n",
        "            1 \\\\\r\n",
        "           -1\r\n",
        "          \\end{cases}\r\n",
        "\\end{align}\r\n",
        "\r\n",
        "> Obtenemos que el radio espectral es $\\rho = max\\{|1|,|-1|\\} = 1$\r\n",
        "\r\n",
        "\r\n",
        ">> #### Con el autovalor $\\lambda = 1$:\r\n",
        "\r\n",
        "\\begin{align}\r\n",
        "\\begin{pmatrix}A-I\\end{pmatrix}\\vec{v} = 0,&& \\text{sustituyendo y operando,} \\\\\\\\\r\n",
        "\\begin{pmatrix}1&-3 \\\\ 1&-3\\end{pmatrix} \\begin{pmatrix}x\\\\y\\end{pmatrix}= 0, && \\text{multiplicando las matrices,} \\\\\\\\\r\n",
        "x-3y=0 && \\text{se obtienen el autovector,} \\\\\\\\\r\n",
        "v_{\\lambda=1}=\\begin{pmatrix}1\\\\-3\\end{pmatrix}\r\n",
        "\\end{align}\r\n",
        "\r\n",
        ">> #### Con el autovalor $\\lambda = -1$:\r\n",
        "\r\n",
        "\\begin{align}\r\n",
        "\\begin{pmatrix}-A+I\\end{pmatrix}\\vec{v} = 0,&& \\text{sustituyendo y operando,} \\\\\\\\\r\n",
        "\\begin{pmatrix}-1&3 \\\\-1&3\\end{pmatrix} \\begin{pmatrix}x\\\\y\\end{pmatrix}= 0, && \\text{multiplicando las matrices,} \\\\\\\\\r\n",
        "x+3y=0 && \\text{se obtienen el vector propio,} \\\\\\\\\r\n",
        "v_{\\lambda=-1}=\\begin{pmatrix}1\\\\3\\end{pmatrix}\r\n",
        "\\end{align}\r\n"
      ]
    },
    {
      "cell_type": "markdown",
      "metadata": {
        "id": "jgD-5s1o9neR"
      },
      "source": [
        "### Para  $B = \\begin{pmatrix}1&1/4&0 \\\\ 0&1/2&0 \\\\0&1/4&1 \\end{pmatrix}$  \r\n"
      ]
    },
    {
      "cell_type": "markdown",
      "metadata": {
        "id": "EmrAAj8FWJ19"
      },
      "source": [
        "> #### Normas matriciales \r\n",
        " \r\n",
        "\\begin{align}\r\n",
        "\\Vert A\\Vert_1 =\\max_{i = 1 \\dots m}\\sum_{j=1}^n|a_{ij}| = \\max \\{1,1,1\\}= 1 \\\\\\\\\r\n",
        "\\Vert A\\Vert_{\\infty} =\\max_{j = 1 \\dots n}\\sum_{i=1}^n|a_{ij}| = \\max \\{5/4,1/2,5/4\\} = 5/4 \\\\\\\\\r\n",
        "\\Vert A\\Vert_{F} =\\sqrt{ \\sum_{i=1}^n|a_{ij}|^2} = \\sqrt{1+1/8+1/4+1/8}  =  \\sqrt{3/2}\r\n",
        "\\end{align}\r\n",
        "\r\n",
        "> #### Cálculo de autovalores y autovectores\r\n",
        "De nuevo, para calcular los autovalores y autovectores buscamos y resolvemos el vector característico a partir de la ecuación $ |A-\\lambda I| =0$.  \r\n",
        "  \r\n",
        ">Esto es,  \r\n",
        "\r\n",
        "\\begin{align}\r\n",
        "\\begin{vmatrix}1-\\lambda&1/4&0 \\\\ 0&1/2-\\lambda&0 \\\\0&1/4&1-\\lambda \\end{vmatrix} = 0, && \\text{resolviendo el determinante,} \\\\\\\\\r\n",
        "(1-\\lambda)^2(1/2-\\lambda) = 0,&& \\text{se obtienen los autovalores,} \\\\\\\\\r\n",
        "\\lambda = \\begin{cases}\r\n",
        "            1, &\\text{(doble)}\\\\\r\n",
        "           1/2 \r\n",
        "          \\end{cases}\r\n",
        "\\end{align}\r\n",
        "\r\n",
        "> Obtenemos que el radio espectral es $\\rho = max\\{|1|,|1/2|\\} = 1$\r\n",
        "\r\n",
        "\r\n",
        ">> #### Con el autovalor $\\lambda = 1$:\r\n",
        "\r\n",
        "\\begin{align}\r\n",
        "\\begin{pmatrix}A-I\\end{pmatrix}\\vec{v} = 0,&& \\text{sustituyendo y operando,} \\\\\\\\\\begin{pmatrix}0&1/4&0 \\\\ 0&-1/2&0 \\\\0&1/4&0\\end{pmatrix} \\begin{pmatrix}x\\\\y\\\\z\\end{pmatrix}= 0, && \\text{multiplicando las matrices,} \\\\\\\\\r\n",
        "y=0 && \\text{se obtienen los vectores propios,} \\\\\\\\\r\n",
        "v_{1,\\lambda=1}=\\begin{pmatrix}1\\\\0\\\\0\\end{pmatrix}, v_{2,\\lambda=1}=\\begin{pmatrix}0\\\\0\\\\1\\end{pmatrix}\r\n",
        "\\end{align}\r\n",
        "\r\n",
        ">>#### Con el autovalor $\\lambda = 1/2$:\r\n",
        "\r\n",
        "\\begin{align}\r\n",
        "\\begin{pmatrix}A-I/2\\end{pmatrix}\\vec{v} = 0,&& \\text{sustituyendo y operando,} \\\\\\\\\r\n",
        "\\begin{pmatrix}1/2&1/4&0 \\\\ 0&0&0 \\\\0&1/4&1/2\\end{pmatrix} \\begin{pmatrix}x\\\\y\\\\z\\end{pmatrix}= 0, && \\text{multiplicando las matrices,} \\\\\\\\\r\n",
        "\\begin{cases}\r\n",
        "          x/2 + y/4 = 0\\\\\r\n",
        "          y/4+z/2 = 0 \r\n",
        "\\end{cases} && \\text{restando las ecuaciones y despejando,} \\\\\\\\\r\n",
        "\\begin{cases}\r\n",
        "          x=z\\\\\r\n",
        "          y=2z \r\n",
        "\\end{cases} && \\text{nos queda el vector propio asociado,} \\\\\\\\\r\n",
        "v_{\\lambda=1/2}=\\begin{pmatrix}1\\\\-2\\\\1\\end{pmatrix}\r\n",
        "\\end{align}"
      ]
    },
    {
      "cell_type": "markdown",
      "metadata": {
        "id": "KJWl7ykw6-lb"
      },
      "source": [
        "## Ejercicio 4\r\n",
        "---\r\n",
        "Realiza dos programa en Python: uno que aplique el método de las potencias y otro para el método de las potencias normalizado que pueda usarse para matrices de tamaño hasta 100 * 100."
      ]
    },
    {
      "cell_type": "markdown",
      "metadata": {
        "id": "JXBw2MTh4L-_"
      },
      "source": [
        "El código realizado es el siguiente:"
      ]
    },
    {
      "cell_type": "code",
      "metadata": {
        "id": "mMticdFMzbiy"
      },
      "source": [
        "import numpy as np\r\n",
        "\r\n",
        "def power_iteration(mat, steps=15, use_norm=True, vector=None, verbose=False):\r\n",
        "\r\n",
        "  def norm_inf(vector):\r\n",
        "    return max([abs(ele) for ele in vector])\r\n",
        "  def normalized(vector):\r\n",
        "    return vector/norm_inf(vector)\r\n",
        "\r\n",
        "  n= len(mat[0])\r\n",
        "  m= len(mat)\r\n",
        "\r\n",
        "  if not vector:\r\n",
        "    vector = [0 for _ in range(n)]\r\n",
        "    vector[0] = 1\r\n",
        "  \r\n",
        "  for i in range(steps):\r\n",
        "    \r\n",
        "    old_vector=vector.copy()\r\n",
        "    vector = np.matmul(mat, old_vector)\r\n",
        "    a = vector[0]/old_vector[0]\r\n",
        "\r\n",
        "    if use_norm:\r\n",
        "      vector = normalized(vector)\r\n",
        "\r\n",
        "    if verbose:\r\n",
        "      print(\"Paso\", str(i))\r\n",
        "      print(\"Normalizando, el autovalor es\", str(a))\r\n",
        "      print(\"Y el vector asociado\",str(vector))\r\n",
        "  return normalized(vector).tolist(), a\r\n",
        "\r\n"
      ],
      "execution_count": 1,
      "outputs": []
    },
    {
      "cell_type": "markdown",
      "metadata": {
        "id": "7tMrbilS4QAs"
      },
      "source": [
        "## Ejercicio 5\n",
        "---\n",
        "Se considera la matriz\n",
        "\n",
        "$A = \\begin{pmatrix}4&-1&1 \\\\ -1&3&-2 \\\\1&-2&3 \\end{pmatrix}$  \n",
        "\n",
        "Calcula sus vectores y valores propios utilizando un programa de calculo simbólico. Usando el vector inicial (1,0,0) aplica el método de las potencias para determinar el valor propio dominante y el vector propio asociado con un error menor que $\\epsilon=0.01$\n"
      ]
    },
    {
      "cell_type": "markdown",
      "metadata": {
        "id": "kJTAHP6_51OG"
      },
      "source": [
        "Los valores propios son $\\{1,3,6\\}$ y los vectores propios asociados: \n",
        "\n",
        " $v_{\\lambda=1} = (0,1,1)$  \n",
        " $v_{\\lambda=3} = (-2,-1,1)$  \n",
        " $v_{\\lambda=6} = (1,-1,1)$  "
      ]
    },
    {
      "cell_type": "markdown",
      "metadata": {
        "id": "1gDZYC5g6p-H"
      },
      "source": [
        "Utilizando el método de las potencias implementado en el ejercicio 4:"
      ]
    },
    {
      "cell_type": "code",
      "metadata": {
        "colab": {
          "base_uri": "https://localhost:8080/"
        },
        "id": "vuRA5KvuhpVY",
        "outputId": "a2e93e2d-3e14-411b-acef-9cc2f78491d6"
      },
      "source": [
        "v,a = power_iteration([[4, -1, 1],[-1,3,-2],[1,-2,3]], use_norm=False)\n",
        "print(\"Sin normalizar,el autovalor es\", str(a))\n",
        "print(\"Y el vector asociado\",str(v))\n",
        "v,a = power_iteration([[4, -1, 1],[-1,3,-2],[1,-2,3]], use_norm=True)\n",
        "print(\"Normalizando, el autovalor es\", str(a))\n",
        "print(\"Y el vector asociado\",str(v))"
      ],
      "execution_count": 4,
      "outputs": [
        {
          "output_type": "stream",
          "text": [
            "Sin normalizar,el autovalor es 5.9996338337605275\n",
            "Y el vector asociado [1.0, -0.9999084528532194, 0.9999084528532194]\n",
            "Normalizando, el autovalor es 5.999633833760527\n",
            "Y el vector asociado [1.0, -0.9999084528532195, 0.9999084528532195]\n"
          ],
          "name": "stdout"
        }
      ]
    },
    {
      "cell_type": "markdown",
      "metadata": {
        "id": "b7mkDSmD9FYT"
      },
      "source": [
        "## Ejercicio 6\n",
        "---\n",
        "Calcula las tres primeras iteraciones del método de las potencias normalizado para las matrices."
      ]
    },
    {
      "cell_type": "markdown",
      "metadata": {
        "id": "UnX4YfLY9fHl"
      },
      "source": [
        "### a) \n",
        "$ A = \\begin{pmatrix}2&1&1\\\\1&2&1\\\\1&1&2 \\end{pmatrix}$ usando el vector inicial $x^{(0)}=(1,-1,2)^t$\n",
        "\n"
      ]
    },
    {
      "cell_type": "code",
      "metadata": {
        "colab": {
          "base_uri": "https://localhost:8080/"
        },
        "id": "YOvqe3v29cUA",
        "outputId": "647c8e67-53c3-45f0-cc00-23fd20b67583"
      },
      "source": [
        "v,a = power_iteration([[2, 1, 1],[1,2,1],[1,1,2]], vector=[1,-1,2], steps=3, verbose=True)"
      ],
      "execution_count": 5,
      "outputs": [
        {
          "output_type": "stream",
          "text": [
            "Paso 0\n",
            "Normalizando, el autovalor es 3.0\n",
            "Y el vector asociado [0.75 0.25 1.  ]\n",
            "Paso 1\n",
            "Normalizando, el autovalor es 3.6666666666666665\n",
            "Y el vector asociado [0.91666667 0.75       1.        ]\n",
            "Paso 2\n",
            "Normalizando, el autovalor es 3.9090909090909087\n",
            "Y el vector asociado [0.97727273 0.93181818 1.        ]\n"
          ],
          "name": "stdout"
        }
      ]
    },
    {
      "cell_type": "markdown",
      "metadata": {
        "id": "0m4sJvgp_c0i"
      },
      "source": [
        "### b) \n",
        "$ B = \\begin{pmatrix}1&1&1\\\\1&1&0\\\\1&0&1 \\end{pmatrix}$ usando el vector inicial $x^{(0)}=(-1,0,1)^t$\n",
        "\n"
      ]
    },
    {
      "cell_type": "code",
      "metadata": {
        "colab": {
          "base_uri": "https://localhost:8080/"
        },
        "id": "k3ig6-3b_vtx",
        "outputId": "44069f70-2d99-4ff6-eec7-a880005aa022"
      },
      "source": [
        "v,a = power_iteration([[1, 1, 1],[1,1,0],[1,0,1]], vector=[-1,0,1], steps=3, verbose=True)"
      ],
      "execution_count": 6,
      "outputs": [
        {
          "output_type": "stream",
          "text": [
            "Paso 0\n",
            "Normalizando, el autovalor es -0.0\n",
            "Y el vector asociado [ 0. -1.  0.]\n",
            "Paso 1\n",
            "Normalizando, el autovalor es -inf\n",
            "Y el vector asociado [-1. -1.  0.]\n",
            "Paso 2\n",
            "Normalizando, el autovalor es 2.0\n",
            "Y el vector asociado [-1.  -1.  -0.5]\n"
          ],
          "name": "stdout"
        },
        {
          "output_type": "stream",
          "text": [
            "/usr/local/lib/python3.7/dist-packages/ipykernel_launcher.py:21: RuntimeWarning: divide by zero encountered in double_scalars\n"
          ],
          "name": "stderr"
        }
      ]
    },
    {
      "cell_type": "markdown",
      "metadata": {
        "id": "1_QUPCsSBx5q"
      },
      "source": [
        "## Ejercicio 7\n",
        "---\n",
        "Comprueba que el método de las potencias no funciona para la siguiente matriz.\n",
        "\n",
        "$ A = \\begin{pmatrix}2&0&3\\\\0&1&0\\\\-1&0&-2 \\end{pmatrix}$\n",
        "\n",
        "Explica por qué ocurre este fenómeno."
      ]
    },
    {
      "cell_type": "code",
      "metadata": {
        "colab": {
          "base_uri": "https://localhost:8080/"
        },
        "id": "k3M2CbpRCc3w",
        "outputId": "18b50fc2-99ea-40ef-d9f8-92fd8e0b06b8"
      },
      "source": [
        "v,a = power_iteration([[2, 0, 3],[0,1,0],[-1,0,-2]], verbose=True)"
      ],
      "execution_count": 7,
      "outputs": [
        {
          "output_type": "stream",
          "text": [
            "Paso 0\n",
            "Normalizando, el autovalor es 2.0\n",
            "Y el vector asociado [ 1.   0.  -0.5]\n",
            "Paso 1\n",
            "Normalizando, el autovalor es 0.5\n",
            "Y el vector asociado [1. 0. 0.]\n",
            "Paso 2\n",
            "Normalizando, el autovalor es 2.0\n",
            "Y el vector asociado [ 1.   0.  -0.5]\n",
            "Paso 3\n",
            "Normalizando, el autovalor es 0.5\n",
            "Y el vector asociado [1. 0. 0.]\n",
            "Paso 4\n",
            "Normalizando, el autovalor es 2.0\n",
            "Y el vector asociado [ 1.   0.  -0.5]\n",
            "Paso 5\n",
            "Normalizando, el autovalor es 0.5\n",
            "Y el vector asociado [1. 0. 0.]\n",
            "Paso 6\n",
            "Normalizando, el autovalor es 2.0\n",
            "Y el vector asociado [ 1.   0.  -0.5]\n",
            "Paso 7\n",
            "Normalizando, el autovalor es 0.5\n",
            "Y el vector asociado [1. 0. 0.]\n",
            "Paso 8\n",
            "Normalizando, el autovalor es 2.0\n",
            "Y el vector asociado [ 1.   0.  -0.5]\n",
            "Paso 9\n",
            "Normalizando, el autovalor es 0.5\n",
            "Y el vector asociado [1. 0. 0.]\n",
            "Paso 10\n",
            "Normalizando, el autovalor es 2.0\n",
            "Y el vector asociado [ 1.   0.  -0.5]\n",
            "Paso 11\n",
            "Normalizando, el autovalor es 0.5\n",
            "Y el vector asociado [1. 0. 0.]\n",
            "Paso 12\n",
            "Normalizando, el autovalor es 2.0\n",
            "Y el vector asociado [ 1.   0.  -0.5]\n",
            "Paso 13\n",
            "Normalizando, el autovalor es 0.5\n",
            "Y el vector asociado [1. 0. 0.]\n",
            "Paso 14\n",
            "Normalizando, el autovalor es 2.0\n",
            "Y el vector asociado [ 1.   0.  -0.5]\n"
          ],
          "name": "stdout"
        }
      ]
    },
    {
      "cell_type": "markdown",
      "metadata": {
        "id": "6_XMO7LgRhDr"
      },
      "source": [
        "El método no funciona con esta matriz pues el vector toma sólo dos valores, [1,0,0] y [1, 0,-0.5]\r\n",
        "\r\n",
        "\r\n",
        "Esto se debe a que la matriz no tiene un autovalor dominante ya que son {-1, 1}. También se puede decir que la matriz es reducible o que el segundo autovector tiene valor absoluto igual a 1."
      ]
    }
  ]
}